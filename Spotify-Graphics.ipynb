{
 "cells": [
  {
   "cell_type": "code",
   "execution_count": null,
   "metadata": {},
   "outputs": [
    {
     "name": "stdout",
     "output_type": "stream",
     "text": [
      "    Date Listened Playlist                                   Song Title  \\\n",
      "0       3/30/2025  daylist                                   Arcarsenal   \n",
      "1       3/30/2025  daylist                              Cut Your Ribbon   \n",
      "2       3/30/2025  daylist  Worms of the Senses- Faculties of the Skull   \n",
      "3       3/30/2025  daylist                                        Seven   \n",
      "4       3/30/2025  daylist                               Inertiatic Esp   \n",
      "..            ...      ...                                          ...   \n",
      "131     3/28/2025  Ska Mix                   Never Been Quite Like This   \n",
      "132     3/28/2025  Ska Mix                        A Jackknife to a Swan   \n",
      "133     3/28/2025  Ska Mix                 Good Riddance to Good Advice   \n",
      "134     3/28/2025  Ska Mix                           Illusion of Choice   \n",
      "135     3/28/2025  Ska Mix                          Head in the Ceiling   \n",
      "\n",
      "                            Album Is New Song Is Song Liked  \\\n",
      "0         Relationship of Command          No           Yes   \n",
      "1                   Wiretap Scars         Yes           Yes   \n",
      "2       The Shape of Punk to Come          No           Yes   \n",
      "3                           Diary          No           Yes   \n",
      "4      Deloused in the Comatorium          No           Yes   \n",
      "..                            ...         ...           ...   \n",
      "131           Rental!! Eviction!!         Yes           Yes   \n",
      "132         A Jackknife to a Swan          No           Yes   \n",
      "133  Good Riddance to Good Advice         Yes           Yes   \n",
      "134            Illusion of Choice          No           Yes   \n",
      "135                  Ska Goes Emo         Yes           Yes   \n",
      "\n",
      "                          Artist          Genre  Year of Release  \\\n",
      "0                At The Drive-In  Post-Hardcore             2000   \n",
      "1                         Sparta  Post-Hardcore             2002   \n",
      "2                        Refused  Post-Hardcore             1998   \n",
      "3          Sunny Day Real Estate            Emo             1994   \n",
      "4                 The Mars Volta      Prog Rock             2003   \n",
      "..                           ...            ...              ...   \n",
      "131               Bruce Lee band            Ska             2019   \n",
      "132  The Mighty Mighty Bosstones       Ska-Punk             2002   \n",
      "133                 Kill Lincoln       Ska-Punk             2018   \n",
      "134        The Best Of The Worst       Ska-Punk             2020   \n",
      "135              Skatune Network       Ska-Punk             2020   \n",
      "\n",
      "    State/Province Country  \n",
      "0               TX      US  \n",
      "1               TX      US  \n",
      "2               SE      SE  \n",
      "3               WA      US  \n",
      "4               TX      US  \n",
      "..             ...     ...  \n",
      "131             CA      US  \n",
      "132             MA      US  \n",
      "133             DC      US  \n",
      "134             NJ      US  \n",
      "135             FL      US  \n",
      "\n",
      "[136 rows x 11 columns]\n"
     ]
    }
   ],
   "source": [
    "import pandas as pd\n",
    "\n",
    "albums_df = pd.read_csv(\"Albums.csv\")\n",
    "artists_df = pd.read_csv(\"Artists.csv\")\n",
    "songs_df = pd.read_csv(\"Songs.csv\")\n",
    "\n",
    "songs_df.drop(\"Notes\", axis=1, inplace=True)\n",
    "\n",
    "merged_df = songs_df.merge(albums_df, on='Album').merge(artists_df, on='Artist')\n",
    "merged_df"
   ]
  }
 ],
 "metadata": {
  "kernelspec": {
   "display_name": "Python 3",
   "language": "python",
   "name": "python3"
  },
  "language_info": {
   "codemirror_mode": {
    "name": "ipython",
    "version": 3
   },
   "file_extension": ".py",
   "mimetype": "text/x-python",
   "name": "python",
   "nbconvert_exporter": "python",
   "pygments_lexer": "ipython3",
   "version": "3.12.7"
  }
 },
 "nbformat": 4,
 "nbformat_minor": 2
}
